{
 "cells": [
  {
   "cell_type": "markdown",
   "metadata": {},
   "source": [
    "# scikit-learn\n",
    "+ 대표적인 파이썬 머신러닝 프레임워크\n",
    "+ 다양한 머신러닝 알고리즘을 제공\n",
    "+ 다양한 샘플 데이터를 제공\n",
    "+ 머신러닝 결과를 검증하는 기능을 제공\n",
    "+ BSD 라이센스이기 때문에 무료로 사용 및 배포가 가능\n",
    "+ 사이킷-런 웹사이트(https://scikit-learn.org/)\n",
    "+ 알고리즘 치트 시트(https://scikit-learn.org/stable/tutorial/machine_learning_map/)"
   ]
  },
  {
   "cell_type": "markdown",
   "metadata": {},
   "source": [
    "# 목표 결정\n",
    "+ 입력(x, y)과 결과(x, y)의 모든 패턴을 학습시킨다.\n",
    "+ 다시 입력(x, y)의 모든 패턴을 주고 제대로 된 결과를 내는 지 평가를 한다."
   ]
  },
  {
   "cell_type": "markdown",
   "metadata": {},
   "source": [
    "# LinearSVC\n",
    "+ 클래스를 구분하는 분류 문제에서, 각 클래스를 잘 구분하는 선을 그어주는 방식을 사용하는 알고리즘\n",
    "+ 교사 학습 알고리즘을 사용하는 학습 전용 데이터와 결과 전용 데이터를 함께 가지고 있어야 한다."
   ]
  },
  {
   "cell_type": "code",
   "execution_count": 8,
   "metadata": {},
   "outputs": [
    {
     "name": "stdout",
     "output_type": "stream",
     "text": [
      "[[0, 0], [1, 0], [0, 1], [1, 1]] 의 예측 결과 :  [0 0 0 1]\n",
      "정답률 :  1.0\n"
     ]
    }
   ],
   "source": [
    "from sklearn.svm import LinearSVC # LinearSVC 알고리즘을 사용하기 위한 패키지\n",
    "from sklearn.metrics import accuracy_score # 테스트 데이터 결과를 평가하기 위한 패키지\n",
    "\n",
    "# 학습 전용 데이터와 결과를 준비한다.\n",
    "# x, y(문제)\n",
    "learn_data = [[0,0],[1,0],[0,1],[1,1]]\n",
    "# x and y(답)\n",
    "learn_label = [0,0,0,1]\n",
    "\n",
    "# 사이킷-런 알고리즘을 지정한다.. (LinearSVC)\n",
    "clf = LinearSVC() # LinearSVC() 전용 객체를 생성한다.\n",
    "\n",
    "# 학습 전용 데이터와 결과를 학습한다.\n",
    "# fit() : 학습 데이터 배열과 결과 데이터 배열을 매개변수로 지정한다.\n",
    "clf.fit(learn_data, learn_label)\n",
    "\n",
    "# 테스트 데이터로 예측한다.\n",
    "# predict() : 테스트 데이터를 매개변수로 전달하여 예측 결과를 반환한다.\n",
    "test_data = [[0,0],[1,0],[0,1],[1,1]]\n",
    "test_label = clf.predict(test_data)\n",
    "\n",
    "# 예측 결과를 평가한다.\n",
    "print(test_data,\"의 예측 결과 : \",test_label)\n",
    "print(\"정답률 : \", accuracy_score([0,0,0,1], test_label))\n",
    "\n",
    "\n"
   ]
  }
 ],
 "metadata": {
  "kernelspec": {
   "display_name": "Python 3",
   "language": "python",
   "name": "python3"
  },
  "language_info": {
   "codemirror_mode": {
    "name": "ipython",
    "version": 3
   },
   "file_extension": ".py",
   "mimetype": "text/x-python",
   "name": "python",
   "nbconvert_exporter": "python",
   "pygments_lexer": "ipython3",
   "version": "3.7.4"
  }
 },
 "nbformat": 4,
 "nbformat_minor": 4
}
