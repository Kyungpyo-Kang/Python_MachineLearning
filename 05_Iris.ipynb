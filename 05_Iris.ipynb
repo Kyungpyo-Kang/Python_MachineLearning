{
 "cells": [
  {
   "cell_type": "code",
   "execution_count": 7,
   "metadata": {},
   "outputs": [
    {
     "name": "stdout",
     "output_type": "stream",
     "text": [
      "정답률 :  1.0\n"
     ]
    }
   ],
   "source": [
    "# pandas는 파이썬에서 사용하는 데이터 분석 라이브러리로, 행과 열로 이루어진 데이터 객체를 만들어 다룰 수 있게 되며, 보다 안정적으로 대용량의\n",
    "# 데이터를 처리하는데 매우 편리한 도구이다. pandas에서는 기본적으로 Data Frame 자료구조를 사용하고 있다.\n",
    "import pandas as pd\n",
    "from sklearn.model_selection import train_test_split\n",
    "from sklearn.svm import SVC\n",
    "from sklearn.metrics import accuracy_score\n",
    "'''\n",
    "iris.csv (붓꽃 데이터)\n",
    "SepalLength : 꽃받침의 길이 정보\n",
    "SepalWidth : 꽃받침의 너비 정보\n",
    "PetalLength : 꽃잎의 길이 정보\n",
    "PetalWidth : 꽃잎의 너비 정보\n",
    "Name : 꽃이름\n",
    "'''\n",
    "iris_data = pd.read_csv('iris.csv', encoding='utf-8') # 결과는 pandas의 Data Frame 객체로 반환된다.\n",
    "# print(iris_data)\n",
    "\n",
    "# 붓꽃 데이터를 레이블과 입력 데이터로 분리한다.\n",
    "y = iris_data.loc[:,\"Name\"] # Data Frame 객체의 loc()를 이용하여 분리한다.\n",
    "x = iris_data.loc[:,[\"SepalLength\",\"SepalWidth\",\"PetalLength\",\"PetalWidth\"]]\n",
    "# print(y)\n",
    "# print(x)\n",
    "# Training Data Set : Test Data Set -> 80:20\n",
    "\n",
    "# 학습 전용과 테스트 전용 분리\n",
    "x_train, x_test, y_train, y_test = train_test_split(x,y,test_size=0.2, train_size=0.8, shuffle=True)\n",
    "# 학습전용 데이터 : 80%, 테스트 전용 데이터 : 20%, 데이터 편향이 일어나지 않도록 shuffle=True\n",
    "\n",
    "# 학습하기\n",
    "clf = SVC()\n",
    "clf.fit(x_train, y_train)\n",
    "\n",
    "# 평가하기\n",
    "y_pred = clf.predict(x_test)\n",
    "print(\"정답률 : \", accuracy_score(y_test, y_pred))\n",
    "\n",
    "\n",
    "\n"
   ]
  }
 ],
 "metadata": {
  "kernelspec": {
   "display_name": "Python 3",
   "language": "python",
   "name": "python3"
  },
  "language_info": {
   "codemirror_mode": {
    "name": "ipython",
    "version": 3
   },
   "file_extension": ".py",
   "mimetype": "text/x-python",
   "name": "python",
   "nbconvert_exporter": "python",
   "pygments_lexer": "ipython3",
   "version": "3.7.7"
  }
 },
 "nbformat": 4,
 "nbformat_minor": 4
}
