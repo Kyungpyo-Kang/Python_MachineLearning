{
 "cells": [
  {
   "cell_type": "code",
   "execution_count": 2,
   "metadata": {},
   "outputs": [
    {
     "name": "stdout",
     "output_type": "stream",
     "text": [
      "[[0, 0], [1, 0], [0, 1], [1, 1]] 의 예측 결과 :  [0 1 1 0]\n",
      "정답률 :  1.0\n"
     ]
    }
   ],
   "source": [
    "from sklearn.neighbors import KNeighborsClassifier # KNeighborsClassifier 알고리즘을 사용하기 위한 패키지\n",
    "from sklearn.metrics import accuracy_score # 테스트 데이터 결과를 평가하기 위한 패키지\n",
    "\n",
    "# 학습 전용 데이터와 결과를 준비한다.\n",
    "# 지도 학습 알고리즘이므로 학습 전용 데이터에 결과 데이터가 함께 있어야 한다.\n",
    "# x, y(문제)\n",
    "learn_data = [[0,0],[1,0],[0,1],[1,1]]\n",
    "# x xor y(답) <- 결과데이터 (목표, 종속, 결과, 출력 변수)\n",
    "learn_label = [0,1,1,0]\n",
    "\n",
    "# 사이킷-런 알고리즘을 지정한다.. (LinearSVC)\n",
    "clf = KNeighborsClassifier(n_neighbors=1) # KNeighborsClassifier() 전용 객체를 생성한다.\n",
    "\n",
    "# 학습 전용 데이터와 결과를 학습한다.\n",
    "# fit() : 학습 데이터 배열과 결과 데이터 배열을 매개변수로 지정한다.\n",
    "clf.fit(learn_data, learn_label)\n",
    "\n",
    "# 테스트 데이터로 예측한다.\n",
    "# predict() : 테스트 데이터를 매개변수로 전달하여 예측 결과를 반환한다.\n",
    "test_data = [[0,0],[1,0],[0,1],[1,1]]\n",
    "test_label = clf.predict(test_data)\n",
    "\n",
    "# 예측 결과를 평가한다.\n",
    "print(test_data,\"의 예측 결과 : \",test_label)\n",
    "print(\"정답률 : \", accuracy_score([0,1,1,0], test_label))\n"
   ]
  }
 ],
 "metadata": {
  "kernelspec": {
   "display_name": "Python 3",
   "language": "python",
   "name": "python3"
  },
  "language_info": {
   "codemirror_mode": {
    "name": "ipython",
    "version": 3
   },
   "file_extension": ".py",
   "mimetype": "text/x-python",
   "name": "python",
   "nbconvert_exporter": "python",
   "pygments_lexer": "ipython3",
   "version": "3.7.7"
  }
 },
 "nbformat": 4,
 "nbformat_minor": 4
}
