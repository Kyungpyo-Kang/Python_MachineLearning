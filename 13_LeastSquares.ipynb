{
 "cells": [
  {
   "cell_type": "code",
   "execution_count": 2,
   "metadata": {},
   "outputs": [],
   "source": [
    "# 최소 제곱법\n",
    "\n",
    "import numpy as np\n",
    "import pandas as pd\n",
    "import matplotlib.pyplot as plt\n",
    "import seaborn as sb\n",
    "%matplotlib inline"
   ]
  },
  {
   "cell_type": "code",
   "execution_count": 5,
   "metadata": {},
   "outputs": [
    {
     "data": {
      "image/png": "[encoded data removed]",
      "text/plain": [
       "<Figure size 360x360 with 1 Axes>"
      ]
     },
     "metadata": {
      "needs_background": "light"
     },
     "output_type": "display_data"
    }
   ],
   "source": [
    "# 공부한 시간을 입력하고, 시험점수를 학습\n",
    "x = [2,4,6,8] # 공부한 시간\n",
    "y = [81,93,91,97] # 시험 점수\n",
    "df = pd.DataFrame(columns=['x','y'])\n",
    "# loc[] : 데이터 프레임에 인덱스로 접근하여 데이터를 넣어줄 때 사용\n",
    "df.loc[0] = [2,81]\n",
    "df.loc[1] = [4,93]\n",
    "df.loc[2] = [6,91]\n",
    "df.loc[3] = [8,97]\n",
    "sb.lmplot('x','y',data=df,fit_reg=False)\n",
    "pass"
   ]
  },
  {
   "cell_type": "code",
   "execution_count": 6,
   "metadata": {},
   "outputs": [
    {
     "name": "stdout",
     "output_type": "stream",
     "text": [
      "공부한 시간의 평균 : 5.0, 시험 점수의 평균 : 90.5\n"
     ]
    }
   ],
   "source": [
    "# numpy를 이용해서 공부한 시간과 시험 점수의 평균을 계산\n",
    "# mean() : numpy에서 인수로 지정된 데이터의 평균을 계산하는 함수\n",
    "mean_x = np.mean(x) # 공부 시간의 평균\n",
    "mean_y = np.mean(y) # 시험 점수의 평균 실제값\n",
    "print('공부한 시간의 평균 : {}, 시험 점수의 평균 : {}'.format(mean_x, mean_y))"
   ]
  },
  {
   "cell_type": "markdown",
   "metadata": {},
   "source": [
    "# 기울기 공식의 분자를 계산하는 함수를 만들어 분자를 계산\n",
    "### 기울기 공식 = ∑(x-x의 평균)(y-y의 평균) / ∑(x-x의 평균)²\n",
    "\n",
    "공부한 시간(x), 공부한 시간의 평균(mean_x), 시험 점수(y), 시험 점수의 평균(mean_y)을 인수로 넘겨받아\n",
    "공부한 시간에서 공부한 시간의 평균을 뺀 편차와 시험 점수에서 시험 점수의 평균을 뺀 편차의 곱을\n",
    "계산해서 리턴하는 함수"
   ]
  },
  {
   "cell_type": "code",
   "execution_count": 7,
   "metadata": {},
   "outputs": [
    {
     "name": "stdout",
     "output_type": "stream",
     "text": [
      "46.0\n"
     ]
    }
   ],
   "source": [
    "# 분자를 계산하는 함수\n",
    "def top(x, mean_x, y, mean_y):\n",
    "    total = 0\n",
    "    for i in range(len(x)):\n",
    "        total += (x[i]-mean_x)*(y[i]-mean_y)\n",
    "    return total\n",
    "\n",
    "dividend = top(x, mean_x, y, mean_y) # 분자\n",
    "print(dividend)"
   ]
  },
  {
   "cell_type": "markdown",
   "metadata": {},
   "source": [
    "# 기울기 공식의 분모를 계산하는 함수를 만들어 분모를 계산\n",
    "공부한 시간(x), 공부한 시간의 평균(mean_x)을 인수로 넘겨받아 공부한 시간에서 공부한 시간의 평균을 뺀 편차를 제곱한 합계를 계산해서 리턴하는 함수"
   ]
  },
  {
   "cell_type": "code",
   "execution_count": 9,
   "metadata": {},
   "outputs": [
    {
     "name": "stdout",
     "output_type": "stream",
     "text": [
      "20.0\n"
     ]
    }
   ],
   "source": [
    "# 분모를 계산하는 함수\n",
    "# def bottom(x, mean_x):\n",
    "#     total = 0\n",
    "#     for i in range(len(x)):\n",
    "#         total += (x[i]-mean_x)**2\n",
    "#     return total\n",
    "\n",
    "# divisor = bottom(x, mean_x)\n",
    "# print(divisor)\n",
    "\n",
    "divisor = sum([(i-mean_x)**2 for i in x])\n",
    "print(divisor)"
   ]
  },
  {
   "cell_type": "markdown",
   "metadata": {},
   "source": [
    "# 기울기와 y 절편을 계산\n",
    "y절편 공식 : y의 평균 - (x의 평균*기울기)"
   ]
  },
  {
   "cell_type": "code",
   "execution_count": 12,
   "metadata": {},
   "outputs": [
    {
     "name": "stdout",
     "output_type": "stream",
     "text": [
      "기울기의 분자 : 46.0, 기울기의 분모: 20.0\n",
      "기울기 : 2.3, y절편 : 79.0\n"
     ]
    }
   ],
   "source": [
    "print('기울기의 분자 : {}, 기울기의 분모: {}'.format(dividend, divisor))\n",
    "a = dividend / divisor # 기울기\n",
    "b = mean_y - (mean_x*a) # y절편\n",
    "print('기울기 : {}, y절편 : {}'.format(a, b))\n",
    "# 기울기의 분자 : 46.0, 기울기의 분모: 20.0\n",
    "# 기울기 : 2.3, y절편 : 79.0"
   ]
  }
 ],
 "metadata": {
  "kernelspec": {
   "display_name": "Python 3",
   "language": "python",
   "name": "python3"
  },
  "language_info": {
   "codemirror_mode": {
    "name": "ipython",
    "version": 3
   },
   "file_extension": ".py",
   "mimetype": "text/x-python",
   "name": "python",
   "nbconvert_exporter": "python",
   "pygments_lexer": "ipython3",
   "version": "3.7.4"
  }
 },
 "nbformat": 4,
 "nbformat_minor": 2
}
