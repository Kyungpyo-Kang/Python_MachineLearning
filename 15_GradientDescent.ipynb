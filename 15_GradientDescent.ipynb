{
 "cells": [
  {
   "cell_type": "markdown",
   "metadata": {},
   "source": [
    "# 경사 하강법(Gradient Descent)\n",
    "### 많은 머신러닝 및 딥러닝 알고리즘을 훈련시킬 때 사용되는 방법\n",
    "기울기를 너무 크게 잡으면 오차가 커지고 기울기를 너무 작게 잡아도 오차가 커진다. <br/>\n",
    "기울기를 무한대로 키우면 오차도 무한대로 늘어나고 기울기를 무한대로 작게해도 <br/>\n",
    "오차는 무한대로 늘어난다. <br/>\n",
    "따라서 가장 적절한 기울기와 y절편을 구하도록 하는 방법이다."
   ]
  },
  {
   "cell_type": "code",
   "execution_count": 3,
   "metadata": {},
   "outputs": [],
   "source": [
    "import tensorflow.compat.v1 as tf\n",
    "tf.disable_v2_behavior()"
   ]
  },
  {
   "cell_type": "code",
   "execution_count": 4,
   "metadata": {},
   "outputs": [],
   "source": [
    "data = [[2,81],[4,93],[6,91],[8,97]]\n",
    "xData = [i[0] for i in data]\n",
    "yData = [i[1] for i in data]"
   ]
  },
  {
   "cell_type": "code",
   "execution_count": 5,
   "metadata": {},
   "outputs": [
    {
     "name": "stdout",
     "output_type": "stream",
     "text": [
      "a=[8.183508], b=[19.869291]\n"
     ]
    }
   ],
   "source": [
    "# 기울기(a)와 y 절편(b)의 값을 임의로 정한다.\n",
    "# 단, 기울기의 범위는 0~10 사이이며, y절편은 0~100 사이에서 임의로 변하게 한다.\n",
    "a = tf.Variable(tf.random_uniform([1], 0, 10, dtype=tf.float32))\n",
    "b = tf.Variable(tf.random_uniform([1], 0, 100, dtype=tf.float32))\n",
    "sess = tf.Session()\n",
    "sess.run(tf.global_variables_initializer())\n",
    "print(\"a={}, b={}\".format(sess.run(a), sess.run(b)))"
   ]
  },
  {
   "cell_type": "code",
   "execution_count": 7,
   "metadata": {},
   "outputs": [],
   "source": [
    "# 예측 성적(y)를 얻기 위한 방정식을 세운다.\n",
    "y = a * xData + b\n",
    "\n",
    "# tensorflow에서 실행할 RMSE(평균 제곱근 오차) 수식을 만든다 -> 오차(비용)함수\n",
    "# tf.square(y-yData) : 예측 성적과 실제 성적의 편차의 제곱을 계산\n",
    "# tf.reduce_mean(tf.square(y-yData)) : 예측 성적과 실제 성적의 편차의 제곱의 평균을 계산\n",
    "# tf.sqrt(tf.reduce_mean(tf.square(y-yData))) : 예측 성적과 실제 성적의 편차의 제곱의 평균의 제곱근을 계산\n",
    "rmse = tf.sqrt(tf.reduce_mean(tf.square(y-yData)))"
   ]
  },
  {
   "cell_type": "code",
   "execution_count": 8,
   "metadata": {},
   "outputs": [],
   "source": [
    "# 경사 하강법을 이용해서 RMSE를 최소로 하는 값을 찾는 수식을 만든다.\n",
    "gradient_descent = tf.train.GradientDescentOptimizer(0.1).minimize(rmse)"
   ]
  },
  {
   "cell_type": "code",
   "execution_count": 9,
   "metadata": {},
   "outputs": [
    {
     "name": "stdout",
     "output_type": "stream",
     "text": [
      "count :    0, RMSE : 16.6050, 기울기 :  7.8390, y절편 : 40.6269\n",
      "count :  100, RMSE : 14.3112, 기울기 :  8.0536, y절편 : 44.6651\n",
      "count :  200, RMSE : 12.7634, 기울기 :  7.4034, y절편 : 48.5452\n",
      "count :  300, RMSE : 11.2359, 기울기 :  6.7574, y절편 : 52.3999\n",
      "count :  400, RMSE :  9.7375, 기울기 :  6.1177, y절편 : 56.2177\n",
      "count :  500, RMSE :  8.2830, 기울기 :  5.4874, y절편 : 59.9792\n",
      "count :  600, RMSE :  6.8974, 기울기 :  4.8722, y절편 : 63.6505\n",
      "count :  700, RMSE :  5.6239, 기울기 :  4.2824, y절편 : 67.1700\n",
      "count :  800, RMSE :  4.5337, 기울기 :  3.7368, y절편 : 70.4257\n",
      "count :  900, RMSE :  3.7200, 기울기 :  3.2659, y절편 : 73.2360\n",
      "count : 1000, RMSE :  3.2337, 기울기 :  2.9028, y절편 : 75.4028\n",
      "count : 1100, RMSE :  3.0095, 기울기 :  2.6571, y절편 : 76.8690\n",
      "count : 1200, RMSE :  2.9244, 기울기 :  2.5062, y절편 : 77.7696\n",
      "count : 1300, RMSE :  2.8952, 기울기 :  2.4179, y절편 : 78.2967\n",
      "count : 1400, RMSE :  2.8856, 기울기 :  2.3671, y절편 : 78.5993\n",
      "count : 1500, RMSE :  2.8825, 기울기 :  2.3382, y절편 : 78.7720\n",
      "count : 1600, RMSE :  2.8815, 기울기 :  2.3217, y절편 : 78.8703\n",
      "count : 1700, RMSE :  2.8811, 기울기 :  2.3124, y절편 : 78.9263\n",
      "count : 1800, RMSE :  2.8810, 기울기 :  2.3070, y절편 : 78.9580\n",
      "count : 1900, RMSE :  2.8810, 기울기 :  2.3040, y절편 : 78.9761\n",
      "count : 2000, RMSE :  2.8810, 기울기 :  2.3023, y절편 : 78.9864\n",
      "count : 2100, RMSE :  2.8810, 기울기 :  2.3013, y절편 : 78.9923\n",
      "count : 2200, RMSE :  2.8810, 기울기 :  2.3007, y절편 : 78.9956\n",
      "count : 2300, RMSE :  2.8810, 기울기 :  2.3004, y절편 : 78.9975\n",
      "count : 2400, RMSE :  2.8810, 기울기 :  2.3003, y절편 : 78.9985\n",
      "count : 2500, RMSE :  2.8810, 기울기 :  2.3001, y절편 : 78.9992\n",
      "count : 2600, RMSE :  2.8810, 기울기 :  2.3001, y절편 : 78.9993\n",
      "count : 2700, RMSE :  2.8810, 기울기 :  2.3001, y절편 : 78.9993\n",
      "count : 2800, RMSE :  2.8810, 기울기 :  2.3001, y절편 : 78.9993\n",
      "count : 2900, RMSE :  2.8810, 기울기 :  2.3001, y절편 : 78.9993\n",
      "count : 3000, RMSE :  2.8810, 기울기 :  2.3001, y절편 : 78.9993\n",
      "count : 3100, RMSE :  2.8810, 기울기 :  2.3001, y절편 : 78.9993\n",
      "count : 3200, RMSE :  2.8810, 기울기 :  2.3001, y절편 : 78.9993\n",
      "count : 3300, RMSE :  2.8810, 기울기 :  2.3001, y절편 : 78.9993\n",
      "count : 3400, RMSE :  2.8810, 기울기 :  2.3001, y절편 : 78.9993\n",
      "count : 3500, RMSE :  2.8810, 기울기 :  2.3001, y절편 : 78.9993\n",
      "count : 3600, RMSE :  2.8810, 기울기 :  2.3001, y절편 : 78.9993\n",
      "count : 3700, RMSE :  2.8810, 기울기 :  2.3001, y절편 : 78.9993\n",
      "count : 3800, RMSE :  2.8810, 기울기 :  2.3001, y절편 : 78.9993\n",
      "count : 3900, RMSE :  2.8810, 기울기 :  2.3001, y절편 : 78.9993\n",
      "count : 4000, RMSE :  2.8810, 기울기 :  2.3001, y절편 : 78.9993\n"
     ]
    }
   ],
   "source": [
    "import time\n",
    "\n",
    "with tf.Session() as sess:\n",
    "    # 변수를 초기화\n",
    "    sess.run(tf.global_variables_initializer())\n",
    "    for i in range(4001):\n",
    "        sess.run(gradient_descent)\n",
    "        \n",
    "        if i % 100 == 0:\n",
    "            print(\"count : %4d, RMSE : %7.4f, 기울기 : %7.4f, y절편 : %7.4f\" %(i, sess.run(rmse), sess.run(a), sess.run(b)))\n",
    "            time.sleep(0.5)\n",
    "# 최적\n",
    "# count : 3700, RMSE :  2.8810, 기울기 :  2.3001, y절편 : 78.9993"
   ]
  }
 ],
 "metadata": {
  "kernelspec": {
   "display_name": "Python 3",
   "language": "python",
   "name": "python3"
  },
  "language_info": {
   "codemirror_mode": {
    "name": "ipython",
    "version": 3
   },
   "file_extension": ".py",
   "mimetype": "text/x-python",
   "name": "python",
   "nbconvert_exporter": "python",
   "pygments_lexer": "ipython3",
   "version": "3.7.4"
  }
 },
 "nbformat": 4,
 "nbformat_minor": 2
}
