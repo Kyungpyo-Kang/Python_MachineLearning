{
 "cells": [
  {
   "cell_type": "code",
   "execution_count": 16,
   "metadata": {},
   "outputs": [],
   "source": [
    "import tensorflow.compat.v1 as tf # 텐서플로우 버전 1을 사용\n",
    "tf.disable_v2_behavior() # 텐서플로우 버전2 사용X\n",
    "\n",
    "# 선형 회귀 분석\n",
    "# 어떤 변수에 다른 변수들이 주는 영향력을 선형적으로 분석하는 대표적인 분석 방법\n",
    "\n",
    "xData = [1,2,3,4,5,6,7] # 아르바이트 시간\n",
    "yData = [25000, 55000, 75000, 110000, 128000, 155000, 180000] # 하루 아르바이트 시간에 따른 비용, 실제값"
   ]
  },
  {
   "cell_type": "code",
   "execution_count": 17,
   "metadata": {},
   "outputs": [
    {
     "name": "stdout",
     "output_type": "stream",
     "text": [
      "a=[69.948105],b=[68.816635]\n"
     ]
    }
   ],
   "source": [
    "# 난수를 발생시켜 학습할 기울기와 y절편을 구한다.\n",
    "# Variable() : tensorflow에서 사용할 변수를 선언한다.\n",
    "# tf.random_uniform([난수의 개수], 최솟값, 최댓값) : tensorflow에서 사용할 난수를 발생시킨다.\n",
    "\n",
    "a = tf.Variable(tf.random_uniform([1], -100, 100)) # -100에서 100 사이의 난수를 뽑는다. (기울기)\n",
    "b = tf.Variable(tf.random_uniform([1], -100, 100)) # -100에서 100 사이의 난수를 뽑는다. (y절편)\n",
    "\n",
    "# 난수를 발생시켜서 사용하는 이유는 과적합을 방지하기 위함이다.\n",
    "# 과적합이란?\n",
    "# 학습을 지나치게 한 탓에 데이터에 대한 답을 제대로 내지 못하는 현상을 의미한다.\n",
    "# 학습 전용 데이터에 너무 특화되어 데이터에 대한 판단을 제대로 못하는 경우\n",
    "\n",
    "# 텐서플로우 안에서 값을 출력할 때는 꼭 세션 안에서 초기화를 한 후 찍어야 한다.\n",
    "sess = tf.Session()\n",
    "sess.run(tf.global_variables_initializer()) # tensorflow 변수는 사용하기 전에 꼭 초기화해야 한다.\n",
    "print('a={},b={}'.format(sess.run(a), sess.run(b)))"
   ]
  },
  {
   "cell_type": "code",
   "execution_count": 18,
   "metadata": {},
   "outputs": [],
   "source": [
    "# 노동 시간과 매출 금액을 기억할 tensorflow에서 사용되는 자료형(placeholer)을 선언한다.\n",
    "x = tf.placeholder(dtype=tf.float32) # 노동 시간을 기억할 placeholder\n",
    "y = tf.placeholder(dtype=tf.float32) # 매출 금액을 기억할 placeholder -> 실제 값\n",
    "\n",
    "# 1차 방정식 형태의 가설을 세우고 비용(오차) 함수를 정의한다.\n",
    "# 비용(오차) 함수 : 실제값(y)과 예측값(Y)의 편차에 대한 제곱의 평균을 이용한다. -> 평균 제곱법\n",
    "Y = a*x + b # 1차 방정식 형태의 가설 : 예측값\n",
    "\n",
    "\n",
    "# reduce_mean() : tensorflow에서 평균을 계산하는 함수\n",
    "# square() : tensorflow에서 제곱을 계산하는 함수\n",
    "cost = tf.reduce_mean(tf.square(Y-y))"
   ]
  },
  {
   "cell_type": "code",
   "execution_count": 19,
   "metadata": {},
   "outputs": [
    {
     "ename": "TypeError",
     "evalue": "'Session' object is not callable",
     "output_type": "error",
     "traceback": [
      "\u001b[1;31m---------------------------------------------------------------------------\u001b[0m",
      "\u001b[1;31mTypeError\u001b[0m                                 Traceback (most recent call last)",
      "\u001b[1;32m<ipython-input-19-bf39f174f191>\u001b[0m in \u001b[0;36m<module>\u001b[1;34m\u001b[0m\n\u001b[0;32m     15\u001b[0m     \u001b[0msess\u001b[0m\u001b[1;33m.\u001b[0m\u001b[0mrun\u001b[0m\u001b[1;33m(\u001b[0m\u001b[0mtrain\u001b[0m\u001b[1;33m,\u001b[0m \u001b[0mfeed_dict\u001b[0m \u001b[1;33m=\u001b[0m \u001b[1;33m{\u001b[0m\u001b[0mx\u001b[0m\u001b[1;33m:\u001b[0m\u001b[0mxData\u001b[0m\u001b[1;33m,\u001b[0m \u001b[0my\u001b[0m\u001b[1;33m:\u001b[0m\u001b[0myData\u001b[0m\u001b[1;33m}\u001b[0m\u001b[1;33m)\u001b[0m\u001b[1;33m\u001b[0m\u001b[1;33m\u001b[0m\u001b[0m\n\u001b[0;32m     16\u001b[0m     \u001b[1;32mif\u001b[0m \u001b[0mi\u001b[0m\u001b[1;33m%\u001b[0m \u001b[1;36m500\u001b[0m \u001b[1;33m==\u001b[0m \u001b[1;36m0\u001b[0m\u001b[1;33m:\u001b[0m\u001b[1;33m\u001b[0m\u001b[1;33m\u001b[0m\u001b[0m\n\u001b[1;32m---> 17\u001b[1;33m         \u001b[0mprint\u001b[0m\u001b[1;33m(\u001b[0m\u001b[1;34m\"{0:4d}{1:13.2f}{2:10.3f}{3:10.3f}\"\u001b[0m\u001b[1;33m.\u001b[0m\u001b[0mformat\u001b[0m\u001b[1;33m(\u001b[0m\u001b[0mi\u001b[0m\u001b[1;33m,\u001b[0m\u001b[0msess\u001b[0m\u001b[1;33m.\u001b[0m\u001b[0mrun\u001b[0m\u001b[1;33m(\u001b[0m\u001b[0mcost\u001b[0m\u001b[1;33m,\u001b[0m \u001b[0mfeed_dict\u001b[0m\u001b[1;33m=\u001b[0m\u001b[1;33m{\u001b[0m\u001b[0mx\u001b[0m\u001b[1;33m:\u001b[0m\u001b[0mxData\u001b[0m\u001b[1;33m,\u001b[0m \u001b[0my\u001b[0m\u001b[1;33m:\u001b[0m\u001b[0myData\u001b[0m\u001b[1;33m}\u001b[0m\u001b[1;33m)\u001b[0m\u001b[1;33m,\u001b[0m \u001b[0msess\u001b[0m\u001b[1;33m.\u001b[0m\u001b[0mrun\u001b[0m\u001b[1;33m(\u001b[0m\u001b[0ma\u001b[0m\u001b[1;33m)\u001b[0m\u001b[1;33m[\u001b[0m\u001b[1;36m0\u001b[0m\u001b[1;33m]\u001b[0m\u001b[1;33m,\u001b[0m \u001b[0msess\u001b[0m\u001b[1;33m(\u001b[0m\u001b[0mb\u001b[0m\u001b[1;33m)\u001b[0m\u001b[1;33m[\u001b[0m\u001b[1;36m0\u001b[0m\u001b[1;33m]\u001b[0m\u001b[1;33m)\u001b[0m\u001b[1;33m)\u001b[0m\u001b[1;33m\u001b[0m\u001b[1;33m\u001b[0m\u001b[0m\n\u001b[0m\u001b[0;32m     18\u001b[0m \u001b[1;33m\u001b[0m\u001b[0m\n",
      "\u001b[1;31mTypeError\u001b[0m: 'Session' object is not callable"
     ]
    }
   ],
   "source": [
    "# tensorflow의 경사 하강 함수로 비용(오차) 함수의 결과를 가장 작게 만드는 방향으로 학습을 시키도록 정의한다.\n",
    "# 경사 하강 알고리즘의 학습률을 설정한다.\n",
    "learning_rate = tf.Variable(0.01)\n",
    "# tf.train.GradientDescentOptimizer() : tensorflow에서 제공하는 학습률에 따른 비용(오차) 함수를 계산하는 함수\n",
    "# optimizer = tf.train.GradientDescentOptimizer(learning_rate)\n",
    "# 비용(오차) 함수를 가장 작게 만드는 방향으로 학습시킨다.\n",
    "train = tf.train.GradientDescentOptimizer(learning_rate).minimize(cost)\n",
    "\n",
    "# 학습을 5000번 시킨다.\n",
    "# 학습을 시작하기 전에 tensorflow 세션(작업공간)을 만들고 변수를 초기화 한다.\n",
    "sess = tf.Session()\n",
    "sess.run(tf.global_variables_initializer())\n",
    "\n",
    "for i in range(1,5001):\n",
    "    sess.run(train, feed_dict = {x:xData, y:yData})\n",
    "    if i% 500 == 0:\n",
    "        print(\"{0:4d}{1:13.2f}{2:10.3f}{3:10.3f}\".format(i,sess.run(cost, feed_dict={x:xData, y:yData}), sess.run(a)[0], sess(b)[0]))\n",
    "# 학습이 완료된 이후에 원하는 입력에 대한 결과를 출력한다.\n",
    "for i in range(8,25):\n",
    "    print(\"{0:2d}시간 노동을 했을 때 하루 매출 기대액 : {1:,.1f}원\".format(i. sess.run(Y, feed_dict={x: [i]}))[0])\n"
   ]
  }
 ],
 "metadata": {
  "kernelspec": {
   "display_name": "Python 3",
   "language": "python",
   "name": "python3"
  },
  "language_info": {
   "codemirror_mode": {
    "name": "ipython",
    "version": 3
   },
   "file_extension": ".py",
   "mimetype": "text/x-python",
   "name": "python",
   "nbconvert_exporter": "python",
   "pygments_lexer": "ipython3",
   "version": "3.7.7"
  }
 },
 "nbformat": 4,
 "nbformat_minor": 4
}
