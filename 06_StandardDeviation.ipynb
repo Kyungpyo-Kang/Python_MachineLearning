{
 "cells": [
  {
   "cell_type": "markdown",
   "metadata": {},
   "source": [
    "# 선택정렬 반복 알고리즘을 이용하여 내림차순(큰 점수(1등)) 석차를 계산하는 프로그램을 작성해보자"
   ]
  },
  {
   "cell_type": "code",
   "execution_count": 4,
   "metadata": {},
   "outputs": [
    {
     "name": "stdout",
     "output_type": "stream",
     "text": [
      "15점은 5등입니다.\n",
      "95점은 2등입니다.\n",
      "94점은 3등입니다.\n",
      "100점은 1등입니다.\n",
      "85점은 4등입니다.\n"
     ]
    }
   ],
   "source": [
    "'''\n",
    "score = [15,95,94,100,85]\n",
    "rank = [1,1,1,1,1]\n",
    "\n",
    "출력)\n",
    "15점은 5등입니다.\n",
    "95점은 2등입니다.\n",
    "94점은 3등입니다.\n",
    "100점은 1등입니다.\n",
    "85점은 4등입니다.\n",
    "'''\n",
    "\n",
    "score = [15,95,94,100,85]\n",
    "# 석차를 기억하는 리스트\n",
    "rank = [1,1,1,1,1]\n",
    "\n",
    "\n",
    "for i in range(len(score)-1):    # 0 ~ 3\n",
    "    for j in range(i+1, len(score)):    # 1 ~ 4\n",
    "        if score[i] < score[j]:\n",
    "            rank[i] += 1\n",
    "        elif score[i] > score[j]:\n",
    "            rank[j] += 1\n",
    "        \n",
    "for i in range(len(score)):\n",
    "    print(\"%d점은 %d등입니다.\" %(score[i], rank[i]))\n",
    "\n",
    "        "
   ]
  },
  {
   "cell_type": "markdown",
   "metadata": {},
   "source": [
    "# n개의 데이터를 입력받아 최댓값과 최솟값을 제외한 나머지 데이터의 표준편차를 계산하는 프로그램을 작성해보자\n",
    "\n",
    "$$\\sqrt{\\frac{\\sum_{k=1}^N (x_i - \\bar{x})^2}{n}}$$"
   ]
  },
  {
   "cell_type": "code",
   "execution_count": 21,
   "metadata": {},
   "outputs": [
    {
     "name": "stdout",
     "output_type": "stream",
     "text": [
      "표준편차를 계산할 데이터의 개수를 입력하세요.5\n",
      "데이터를 입력하세요![1번째 데이터]\n",
      "10\n",
      "데이터를 입력하세요![2번째 데이터]\n",
      "50\n",
      "데이터를 입력하세요![3번째 데이터]\n",
      "80\n",
      "데이터를 입력하세요![4번째 데이터]\n",
      "60\n",
      "데이터를 입력하세요![5번째 데이터]\n",
      "90\n",
      "[90, 80, 60, 50, 10]\n",
      "분산 : 218.89\n",
      "표준편차 : 14.79\n"
     ]
    }
   ],
   "source": [
    "# import math\n",
    "\n",
    "# 표준편차를 계산할 데이터의 개수를 입력하고 입력받은 개수만큼 데이터를 입력받는다.\n",
    "# 예) n = int(input(\"표준편차를 계산할 데이터의 개수를 입력하세요.\"))\n",
    "cnt = int(input(\"표준편차를 계산할 데이터의 개수를 입력하세요.\"))\n",
    "# 입력받은 데이터를 오름차순 정렬한다. -> 0번째 데이터가 최솟값, 마지막 데이터가 최댓값\n",
    "dataList = []\n",
    "total = 0\n",
    "avg = 0.0\n",
    "var = 0.0\n",
    "for i in range(cnt):\n",
    "    print(\"데이터를 입력하세요![%d번째 데이터]\" %(i+1))\n",
    "    temp = int(input())\n",
    "    dataList.append(temp)\n",
    "\n",
    "# 최댓값과 최솟값을 제외한 나머지 데이터의 평균을 계산 -> 분산\n",
    "\n",
    "for i in range(len(dataList)-1):\n",
    "    for j in range(i+1, len(dataList)):\n",
    "        if dataList[i] < dataList[j]:\n",
    "            temp = dataList[i]\n",
    "            dataList[i] = dataList[j]\n",
    "            dataList[j] = temp\n",
    "print(dataList)            \n",
    "for i in range(1, len(dataList)-1):\n",
    "    total += dataList[i]\n",
    "\n",
    "avg = total / (len(dataList)-2)\n",
    "\n",
    "for i in range(1, len(dataList)-1):\n",
    "    total += (dataList[i]-avg) ** 2\n",
    "    \n",
    "var = total / (len(dataList)-2)\n",
    "\n",
    "result = math.sqrt(var)\n",
    "\n",
    "# 분산에 루트를 씌워주면 표준편차가 계산된다.\n",
    "print(\"분산 : %.2f\\n표준편차 : %.2f\" %(var, result))"
   ]
  },
  {
   "cell_type": "code",
   "execution_count": 19,
   "metadata": {},
   "outputs": [
    {
     "name": "stdout",
     "output_type": "stream",
     "text": [
      "평균: 63.333333333333336, 분산: 155.55555555555554, 표준편차: 12.47219128924647\n"
     ]
    }
   ],
   "source": [
    "# Numpy는 행렬이나 일반적으로 대규모 다차원 배열을 쉽게 처리할 수 있도록\n",
    "# 지원하는 파이썬 라이브러리이다. \n",
    "\n",
    "# 데이터 구조 외에도 수치 계산을 위해 효율적으로 구현된 기능을 제공한다.\n",
    "import numpy as np\n",
    "\n",
    "score = [50,60,80]\n",
    "print(\"평균: {}, 분산: {}, 표준편차: {}\".format(np.mean(score), np.var(score), np.std(score)))\n",
    "\n",
    "\n",
    "\n",
    "\n",
    "\n",
    "\n",
    "\n",
    "\n",
    "\n"
   ]
  }
 ],
 "metadata": {
  "kernelspec": {
   "display_name": "Python 3",
   "language": "python",
   "name": "python3"
  },
  "language_info": {
   "codemirror_mode": {
    "name": "ipython",
    "version": 3
   },
   "file_extension": ".py",
   "mimetype": "text/x-python",
   "name": "python",
   "nbconvert_exporter": "python",
   "pygments_lexer": "ipython3",
   "version": "3.7.7"
  }
 },
 "nbformat": 4,
 "nbformat_minor": 4
}
