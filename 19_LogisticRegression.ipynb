{
 "cells": [
  {
   "cell_type": "markdown",
   "metadata": {},
   "source": [
    "# 로지스틱 회귀분석\n",
    "### 참과 거짓 중에 하나를 선택하게 하는 알고리즘\n",
    "공부 시간과 성적 사이의 관계는 좌표로 나타냈을 때 좌표의 형태가 직선으로 해결되는 선형회귀를 사용하기 적합하다. <br/>\n",
    "공부시간에 따른 점수가 아닌 합격 여부로 발표되는 시험이 있을 경우 직선으로 해결하기 어렵다."
   ]
  },
  {
   "cell_type": "code",
   "execution_count": 3,
   "metadata": {},
   "outputs": [],
   "source": [
    "import tensorflow.compat.v1 as tf\n",
    "tf.disable_v2_behavior()\n",
    "import numpy as np"
   ]
  },
  {
   "cell_type": "code",
   "execution_count": 4,
   "metadata": {},
   "outputs": [
    {
     "name": "stdout",
     "output_type": "stream",
     "text": [
      "공부 시간 :[2, 4, 8, 10, 12, 14], 합격 여부 : [0, 0, 1, 1, 1, 1]\n"
     ]
    }
   ],
   "source": [
    "# x, y 데이터 값 -> [공부 시간, 합격 여부]\n",
    "data = [[2,0],[4,0],[8,1],[10,1],[12,1],[14,1]]\n",
    "xData = [i[0] for i in data] # 공부 시간\n",
    "yData = [i[1] for i in data] # 합격 시간\n",
    "print(\"공부 시간 :{}, 합격 여부 : {}\".format(xData, yData))"
   ]
  },
  {
   "cell_type": "code",
   "execution_count": 5,
   "metadata": {},
   "outputs": [
    {
     "name": "stdout",
     "output_type": "stream",
     "text": [
      "a = [-0.63436665], b = [-0.63436665]\n"
     ]
    }
   ],
   "source": [
    "# 기울기(a)와 y절편(b) 값을 랜덤한 값으로 정한다.\n",
    "a = tf.Variable(tf.random_normal([1], dtype=tf.float64, seed=0))\n",
    "b = tf.Variable(tf.random_normal([1], dtype=tf.float64, seed=0))\n",
    "sess = tf.Session()\n",
    "sess.run(tf.global_variables_initializer())\n",
    "print(\"a = {}, b = {}\".format(sess.run(a), sess.run(b)))"
   ]
  },
  {
   "cell_type": "code",
   "execution_count": 6,
   "metadata": {},
   "outputs": [],
   "source": [
    "# 시그모이드 방정식\n",
    "# np.e : numpy에서 지수값을 의미하는 상수\n",
    "y = 1 / (1+np.e ** -(a*xData+b))\n",
    "\n",
    "# 시그모이드 방정식의 오차를 계산하는 수식을 만든다.\n",
    "# 시그모이드 함수의 특징은 예측값(y)이 항상 0 아니면 1이다.\n",
    "# http://taewan.kim/post/sigmoid_diff/\n",
    "loss = -tf.reduce_mean(np.array(yData)*tf.log(y)+(1-np.array(yData))*tf.log(1-y))\n",
    "\n",
    "# 오차를 최소로 하는 값을 찾는다.\n",
    "gradient_descent = tf.train.GradientDescentOptimizer(0.25).minimize(loss)"
   ]
  },
  {
   "cell_type": "code",
   "execution_count": 9,
   "metadata": {},
   "outputs": [
    {
     "name": "stdout",
     "output_type": "stream",
     "text": [
      "count:    0, loss:1.0474, a:1.1798, b:-0.4750\n",
      "count: 6000, loss:0.0058, a:2.0626, b:-12.0277\n",
      "count:12000, loss:0.0030, a:2.3920, b:-14.0097\n",
      "count:18000, loss:0.0020, a:2.5882, b:-15.1890\n",
      "count:24000, loss:0.0015, a:2.7286, b:-16.0321\n",
      "count:30000, loss:0.0012, a:2.8380, b:-16.6890\n",
      "count:36000, loss:0.0010, a:2.9276, b:-17.2272\n",
      "count:42000, loss:0.0009, a:3.0036, b:-17.6833\n",
      "count:48000, loss:0.0008, a:3.0695, b:-18.0790\n",
      "count:54000, loss:0.0007, a:3.1277, b:-18.4284\n",
      "count:60000, loss:0.0006, a:3.1798, b:-18.7413\n",
      "count:66000, loss:0.0006, a:3.2270, b:-19.0246\n",
      "count:72000, loss:0.0005, a:3.2701, b:-19.2834\n",
      "count:78000, loss:0.0005, a:3.3098, b:-19.5216\n",
      "count:84000, loss:0.0004, a:3.3466, b:-19.7423\n",
      "count:90000, loss:0.0004, a:3.3808, b:-19.9478\n",
      "count:96000, loss:0.0004, a:3.4129, b:-20.1401\n",
      "count:102000, loss:0.0004, a:3.4430, b:-20.3209\n",
      "count:108000, loss:0.0003, a:3.4714, b:-20.4913\n",
      "count:114000, loss:0.0003, a:3.4983, b:-20.6526\n",
      "count:120000, loss:0.0003, a:3.5238, b:-20.8056\n"
     ]
    }
   ],
   "source": [
    "# 학습을 시킨다.\n",
    "with tf.Session() as sess:\n",
    "    sess.run(tf.global_variables_initializer())\n",
    "    for i in range(120001):\n",
    "        sess.run(gradient_descent)\n",
    "        if i % 6000 == 0:\n",
    "            print(\"count:%5d, loss:%.4f, a:%.4f, b:%.4f\" %(i, sess.run(loss), sess.run(a), sess.run(b)))"
   ]
  }
 ],
 "metadata": {
  "kernelspec": {
   "display_name": "Python 3",
   "language": "python",
   "name": "python3"
  },
  "language_info": {
   "codemirror_mode": {
    "name": "ipython",
    "version": 3
   },
   "file_extension": ".py",
   "mimetype": "text/x-python",
   "name": "python",
   "nbconvert_exporter": "python",
   "pygments_lexer": "ipython3",
   "version": "3.7.4"
  }
 },
 "nbformat": 4,
 "nbformat_minor": 2
}
