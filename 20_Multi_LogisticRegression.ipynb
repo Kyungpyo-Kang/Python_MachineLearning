{
 "cells": [
  {
   "cell_type": "code",
   "execution_count": 2,
   "metadata": {},
   "outputs": [],
   "source": [
    "import tensorflow.compat.v1 as tf\n",
    "tf.disable_v2_behavior()\n",
    "import numpy as np"
   ]
  },
  {
   "cell_type": "code",
   "execution_count": 11,
   "metadata": {},
   "outputs": [],
   "source": [
    "seed = 0\n",
    "# a = tf.Variable(tf.random_normal([1], dtype=tf.float64, seed=0))\n",
    "# b = tf.Variable(tf.random_normal([1], dtype=tf.float64, seed=0))\n",
    "# tensorflow, numpy 랜덤값을 설정한다.\n",
    "tf.set_random_seed(seed)\n",
    "np.random.seed(seed)"
   ]
  },
  {
   "cell_type": "code",
   "execution_count": 12,
   "metadata": {},
   "outputs": [
    {
     "name": "stdout",
     "output_type": "stream",
     "text": [
      "[[ 2  3]\n",
      " [ 4  3]\n",
      " [ 6  4]\n",
      " [ 8  6]\n",
      " [10  7]\n",
      " [12  8]\n",
      " [14  9]]\n"
     ]
    }
   ],
   "source": [
    "# 학습할 데이터를 만든다. [공부시간, 과외시간]\n",
    "# xData = [[2,3],[4,3],[6,4],[8,6],[10,7],[12,8],[14,9]]\n",
    "xData = np.array([[2,3],[4,3],[6,4],[8,6],[10,7],[12,8],[14,9]]) # 7행 2열 numpy 배열\n",
    "print(xData)"
   ]
  },
  {
   "cell_type": "code",
   "execution_count": 13,
   "metadata": {},
   "outputs": [
    {
     "name": "stdout",
     "output_type": "stream",
     "text": [
      "[[0]\n",
      " [0]\n",
      " [0]\n",
      " [1]\n",
      " [1]\n",
      " [1]\n",
      " [1]]\n"
     ]
    }
   ],
   "source": [
    "# yData -> [합격여부] -> 실제값\n",
    "# yData = np.array([0,0,0,1,1,1,1]) # 1행 7열\n",
    "# reshape() : numpy에서 데이터는 그대로 유지한 채 배열의 형태(차원)를 변경한다.\n",
    "# 1행 7열 numpy 배열 -> 7행 1열 numpy 배열\n",
    "yData = np.array([0,0,0,1,1,1,1]).reshape(7,1)\n",
    "print(yData)"
   ]
  },
  {
   "cell_type": "code",
   "execution_count": 25,
   "metadata": {},
   "outputs": [],
   "source": [
    "# xData와 yData를 저장할 placeholder를 만든다.\n",
    "# placeholder에 numpy 배열이 대입되는 경우 shape 속성을 이용해 대입되는 numpy 배열의 차원을 지정해야 한다.\n",
    "# [None, 2] -> numpy 행의 개수는 몇개라도 상관없고 열의 개수는 2개이다.\n",
    "X = tf.placeholder(dtype=tf.float64, shape=[None, 2]) # xData가 대입될 placeholder\n",
    "Y = tf.placeholder(dtype=tf.float64, shape=[None, 1]) # yData가 대입될 placeholder\n",
    "\n",
    "# 기울기(가중치) a와 y절편(바이어스) b의 값을 임의(random)로 정한다.\n",
    "# xData 1건은 1행 2열인 행렬이므로 가중치 a를 2행 1열인 난수로 발생시키면 \n",
    "# 행렬의 곱을 이용해 편리하게 연산할 수 있다.\n",
    "a = tf.Variable(tf.random_uniform([2,1], dtype=tf.float64)) # 난수를 2행 1렬로 발생시킨다.\n",
    "b = tf.Variable(tf.random_uniform([1], dtype=tf.float64)) \n",
    "\n",
    "# 시그모이드 방정식 만들기\n",
    "y = tf.sigmoid(tf.matmul(X,a)+b)\n",
    "\n",
    "# 오차 함수\n",
    "loss = -tf.reduce_mean(Y*tf.log(y)+(1-Y)*tf.log(1-y))\n",
    "\n",
    "# 오차를 최소화하는 경사하강 알고리즘\n",
    "gradient_descent = tf.train.GradientDescentOptimizer(0.1).minimize(loss)"
   ]
  },
  {
   "cell_type": "code",
   "execution_count": 37,
   "metadata": {},
   "outputs": [],
   "source": [
    "# sigmoid() 함수의 실행결과(y) 값이 0.5 이상이면 1을, 0.5 미만이면 0을 리턴시킨다.\n",
    "# tf.cast(캐스팅할 데이터, dtype=캐스팅 될 데이터 타입) : tensorflow에서 형변환을 실행하는 메소드\n",
    "# predicted = tf.cast(tf.constant([1.9,2.1]), dtype=tf.int32) \n",
    "# [1.2] -> 실수(부동소수점 데이터)를 정수형 데이터로 변경한다.\n",
    "# predicted = tf.cast(0.4 >= 0.5, dtype=tf.float64) \n",
    "# 조건 비교 결과가 False이므로 0으로 캐스팅 한다.\n",
    "# predicted = tf.cast(0.5 >= 0.5, dtype=tf.float64) \n",
    "# 조건 비교 결과가 True이므로 1로 캐스팅 한다.\n",
    "\n",
    "\n",
    "predicted = tf.cast(y >= 0.5, dtype=tf.float64)\n",
    "\n",
    "# 예상값이 실제값과 일치하는 정도(정확도)를 계산한다.\n",
    "# tf.equal() : tensorflow에서 인수로 지정된 값이 같으면 True 다르면 False 결과를\n",
    "# tf.float64로 캐스팅하고 실행된 전체 평균을 계산한다.\n",
    "\n",
    "# 정확도\n",
    "accuracy = tf.reduce_mean(tf.cast(tf.equal(predicted, Y), dtype=tf.float64)) "
   ]
  },
  {
   "cell_type": "code",
   "execution_count": 39,
   "metadata": {},
   "outputs": [
    {
     "name": "stdout",
     "output_type": "stream",
     "text": [
      "공부시간 : 6, 과외시간 : 5\n",
      "합격여부(sigmoid() 메소드 실행결과를 0.5이상은 1, 미만은 0으로 변환한다.): 1, 합격확률(sigmoid() 함수 실행 결과 : 0.512863)\n",
      "공부시간:0, 과외시간: 0,합격 여부 : 불합격, 합격확률:   0.0133%\n",
      "공부시간:0, 과외시간: 1,합격 여부 : 불합격, 합격확률:   0.0657%\n",
      "공부시간:0, 과외시간: 2,합격 여부 : 불합격, 합격확률:   0.3227%\n",
      "공부시간:0, 과외시간: 3,합격 여부 : 불합격, 합격확률:   1.5699%\n",
      "공부시간:0, 과외시간: 4,합격 여부 : 불합격, 합격확률:   7.2847%\n",
      "공부시간:0, 과외시간: 5,합격 여부 : 불합격, 합격확률:  27.9057%\n",
      "공부시간:0, 과외시간: 6,합격 여부 : 합격, 합격확률:  65.5988%\n",
      "공부시간:0, 과외시간: 7,합격 여부 : 합격, 합격확률:  90.3791%\n",
      "공부시간:0, 과외시간: 8,합격 여부 : 합격, 합격확률:  97.8849%\n",
      "공부시간:0, 과외시간: 9,합격 여부 : 합격, 합격확률:  99.5633%\n",
      "공부시간:0, 과외시간:10,합격 여부 : 합격, 합격확률:  99.9110%\n"
     ]
    }
   ],
   "source": [
    "# 학습을 시킨다.\n",
    "with tf.Session() as sess:\n",
    "    sess.run(tf.global_variables_initializer())\n",
    "    for i in range(3001):\n",
    "        # count : 학습횟수, a1: 기울기(공부시간), a2: 기울기(과외시간), b: y절편, loss: 오차함수\n",
    "        a_, b_, loss_, _ = sess.run([a,b,loss,gradient_descent], feed_dict={X:xData,Y:yData})\n",
    "#         if i % 300 == 0:\n",
    "#             print('count = {}, a1 = {}, a2 = {}, b = {}, loss = {}'.format(i, a_[0], a_[1], b_, loss_))\n",
    "# 학습 완료 -----------------------------------------------------------\n",
    "# 테스트 데이터\n",
    "\n",
    "    new_x = np.array([6,5]).reshape(1,2) # reshape() 함수를 이용해서 1행 2열인 2차원 numpy 배열을 만든다.\n",
    "\n",
    "    # sigmoid() 메소드 연산 결과에 테스트 데이터를 대입시켜 연산한다.\n",
    "    result, new_y = sess.run([predicted, y], feed_dict={X: new_x})\n",
    "    print(\"공부시간 : %d, 과외시간 : %d\" %(new_x[:,0], new_x[:,1]))\n",
    "    print(\"합격여부(sigmoid() 메소드 실행결과를 0.5이상은 1, 미만은 0으로 변환한다.): %d, 합격확률(sigmoid() 함수 실행 결과 : %f)\" %\\\n",
    "          (result, new_y))\n",
    "    for i in range(11):\n",
    "        new_x = np.array([0,i]).reshape(1,2)\n",
    "        result, new_y = sess.run([predicted, y], feed_dict={X: new_x})\n",
    "        print(\"공부시간:%d, 과외시간:%2d\" %(new_x[:,0],new_x[:,1]), end=',')\n",
    "        print(\"합격 여부 : %s, 합격확률: %8.4f%%\" %('합격' if result==1 else'불합격', new_y*100))"
   ]
  }
 ],
 "metadata": {
  "kernelspec": {
   "display_name": "Python 3",
   "language": "python",
   "name": "python3"
  },
  "language_info": {
   "codemirror_mode": {
    "name": "ipython",
    "version": 3
   },
   "file_extension": ".py",
   "mimetype": "text/x-python",
   "name": "python",
   "nbconvert_exporter": "python",
   "pygments_lexer": "ipython3",
   "version": "3.7.4"
  }
 },
 "nbformat": 4,
 "nbformat_minor": 2
}
