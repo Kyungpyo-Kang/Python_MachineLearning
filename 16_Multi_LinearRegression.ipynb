{
 "cells": [
  {
   "cell_type": "code",
   "execution_count": 4,
   "metadata": {},
   "outputs": [],
   "source": [
    "import tensorflow.compat.v1 as tf\n",
    "tf.disable_v2_behavior()"
   ]
  },
  {
   "cell_type": "code",
   "execution_count": 8,
   "metadata": {},
   "outputs": [],
   "source": [
    "data = [[2,0,81],[4,4,93],[6,2,91],[8,3,97]] # [공부한 시간(x1), 과외수업시간(x2), 실제성적(y)]\n",
    "xData1 = [i[0] for i in data] # 공부한 시간\n",
    "xData2 = [i[1] for i in data]\n",
    "yData = [i[2] for i in data]"
   ]
  },
  {
   "cell_type": "code",
   "execution_count": 9,
   "metadata": {},
   "outputs": [],
   "source": [
    "# y = a1 * xData1 + a2 * xData2 + b\n",
    "\n",
    "a1 = tf.Variable(tf.random_uniform([1], 0, 10, dtype=tf.float32))\n",
    "a2 = tf.Variable(tf.random_uniform([1], 0, 10, dtype=tf.float32))\n",
    "b = tf.Variable(tf.random_uniform([1], 0, 100, dtype=tf.float32))\n",
    "\n",
    "y = a1 * xData1 + a2 * xData2 + b\n",
    "rmse = tf.sqrt(tf.reduce_mean(tf.square(y-yData)))\n",
    "gradient_descent = tf.train.GradientDescentOptimizer(0.1).minimize(rmse)"
   ]
  },
  {
   "cell_type": "code",
   "execution_count": 11,
   "metadata": {},
   "outputs": [
    {
     "name": "stdout",
     "output_type": "stream",
     "text": [
      "count :    0, RMSE : 14.8970, 기울기(a1) :  3.1610, 기울기(a2) :  7.2209, y절편 : 69.6768\n",
      "count :  100, RMSE :  2.0432, 기울기(a1) :  2.2147, 기울기(a2) :  2.5765, y절편 : 72.8313\n",
      "count :  200, RMSE :  1.8351, 기울기(a1) :  2.0306, 기울기(a2) :  2.4952, y절편 : 75.9175\n",
      "count :  300, RMSE :  1.8367, 기울기(a1) :  1.8864, 기울기(a2) :  2.4479, y절편 : 77.0702\n",
      "count :  400, RMSE :  1.8370, 기울기(a1) :  1.8200, 기울기(a2) :  2.4254, y절편 : 77.5531\n",
      "count :  500, RMSE :  1.8370, 기울기(a1) :  1.7911, 기울기(a2) :  2.4155, y절편 : 77.7558\n",
      "count :  600, RMSE :  1.8370, 기울기(a1) :  1.7789, 기울기(a2) :  2.4113, y절편 : 77.8409\n",
      "count :  700, RMSE :  1.8370, 기울기(a1) :  1.7737, 기울기(a2) :  2.4095, y절편 : 77.8767\n",
      "count :  800, RMSE :  1.8370, 기울기(a1) :  1.7715, 기울기(a2) :  2.4087, y절편 : 77.8917\n",
      "count :  900, RMSE :  1.8370, 기울기(a1) :  1.7706, 기울기(a2) :  2.4084, y절편 : 77.8980\n",
      "count : 1000, RMSE :  1.8370, 기울기(a1) :  1.7702, 기울기(a2) :  2.4083, y절편 : 77.9007\n",
      "count : 1100, RMSE :  1.8370, 기울기(a1) :  1.7700, 기울기(a2) :  2.4082, y절편 : 77.9017\n",
      "count : 1200, RMSE :  1.8370, 기울기(a1) :  1.7699, 기울기(a2) :  2.4082, y절편 : 77.9022\n",
      "count : 1300, RMSE :  1.8369, 기울기(a1) :  1.7699, 기울기(a2) :  2.4082, y절편 : 77.9022\n",
      "count : 1400, RMSE :  1.8369, 기울기(a1) :  1.7699, 기울기(a2) :  2.4082, y절편 : 77.9022\n",
      "count : 1500, RMSE :  1.8369, 기울기(a1) :  1.7699, 기울기(a2) :  2.4082, y절편 : 77.9022\n",
      "count : 1600, RMSE :  1.8369, 기울기(a1) :  1.7699, 기울기(a2) :  2.4082, y절편 : 77.9022\n",
      "count : 1700, RMSE :  1.8369, 기울기(a1) :  1.7699, 기울기(a2) :  2.4082, y절편 : 77.9022\n",
      "count : 1800, RMSE :  1.8369, 기울기(a1) :  1.7699, 기울기(a2) :  2.4082, y절편 : 77.9022\n",
      "count : 1900, RMSE :  1.8369, 기울기(a1) :  1.7699, 기울기(a2) :  2.4082, y절편 : 77.9022\n",
      "count : 2000, RMSE :  1.8369, 기울기(a1) :  1.7699, 기울기(a2) :  2.4082, y절편 : 77.9022\n",
      "count : 2100, RMSE :  1.8369, 기울기(a1) :  1.7699, 기울기(a2) :  2.4082, y절편 : 77.9022\n",
      "count : 2200, RMSE :  1.8369, 기울기(a1) :  1.7699, 기울기(a2) :  2.4082, y절편 : 77.9022\n",
      "count : 2300, RMSE :  1.8369, 기울기(a1) :  1.7699, 기울기(a2) :  2.4082, y절편 : 77.9022\n",
      "count : 2400, RMSE :  1.8369, 기울기(a1) :  1.7699, 기울기(a2) :  2.4082, y절편 : 77.9022\n",
      "count : 2500, RMSE :  1.8369, 기울기(a1) :  1.7699, 기울기(a2) :  2.4082, y절편 : 77.9022\n",
      "count : 2600, RMSE :  1.8369, 기울기(a1) :  1.7699, 기울기(a2) :  2.4082, y절편 : 77.9022\n",
      "count : 2700, RMSE :  1.8369, 기울기(a1) :  1.7699, 기울기(a2) :  2.4082, y절편 : 77.9022\n",
      "count : 2800, RMSE :  1.8369, 기울기(a1) :  1.7699, 기울기(a2) :  2.4082, y절편 : 77.9022\n",
      "count : 2900, RMSE :  1.8369, 기울기(a1) :  1.7699, 기울기(a2) :  2.4082, y절편 : 77.9022\n",
      "count : 3000, RMSE :  1.8369, 기울기(a1) :  1.7699, 기울기(a2) :  2.4082, y절편 : 77.9022\n",
      "count : 3100, RMSE :  1.8369, 기울기(a1) :  1.7699, 기울기(a2) :  2.4082, y절편 : 77.9022\n",
      "count : 3200, RMSE :  1.8369, 기울기(a1) :  1.7699, 기울기(a2) :  2.4082, y절편 : 77.9022\n",
      "count : 3300, RMSE :  1.8369, 기울기(a1) :  1.7699, 기울기(a2) :  2.4082, y절편 : 77.9022\n",
      "count : 3400, RMSE :  1.8369, 기울기(a1) :  1.7699, 기울기(a2) :  2.4082, y절편 : 77.9022\n",
      "count : 3500, RMSE :  1.8369, 기울기(a1) :  1.7699, 기울기(a2) :  2.4082, y절편 : 77.9022\n",
      "count : 3600, RMSE :  1.8369, 기울기(a1) :  1.7699, 기울기(a2) :  2.4082, y절편 : 77.9022\n",
      "count : 3700, RMSE :  1.8369, 기울기(a1) :  1.7699, 기울기(a2) :  2.4082, y절편 : 77.9022\n",
      "count : 3800, RMSE :  1.8369, 기울기(a1) :  1.7699, 기울기(a2) :  2.4082, y절편 : 77.9022\n",
      "count : 3900, RMSE :  1.8369, 기울기(a1) :  1.7699, 기울기(a2) :  2.4082, y절편 : 77.9022\n",
      "count : 4000, RMSE :  1.8369, 기울기(a1) :  1.7699, 기울기(a2) :  2.4082, y절편 : 77.9022\n"
     ]
    }
   ],
   "source": [
    "import time\n",
    "\n",
    "with tf.Session() as sess:\n",
    "    sess.run(tf.global_variables_initializer())\n",
    "    for i in range(4001):\n",
    "        sess.run(gradient_descent)\n",
    "        if i % 100 == 0:\n",
    "            print(\"count : %4d, RMSE : %7.4f, 기울기(a1) : %7.4f, 기울기(a2) : %7.4f, y절편 : %7.4f\" %(i, sess.run(rmse), sess.run(a1), sess.run(a2), sess.run(b)))\n",
    "            time.sleep(0.5)\n",
    "# 최적\n",
    "# count : 4000, RMSE :  1.8369, 기울기(a1) :  1.7699, 기울기(a2) :  2.4082, y절편 : 77.9022"
   ]
  }
 ],
 "metadata": {
  "kernelspec": {
   "display_name": "Python 3",
   "language": "python",
   "name": "python3"
  },
  "language_info": {
   "codemirror_mode": {
    "name": "ipython",
    "version": 3
   },
   "file_extension": ".py",
   "mimetype": "text/x-python",
   "name": "python",
   "nbconvert_exporter": "python",
   "pygments_lexer": "ipython3",
   "version": "3.7.4"
  }
 },
 "nbformat": 4,
 "nbformat_minor": 2
}
