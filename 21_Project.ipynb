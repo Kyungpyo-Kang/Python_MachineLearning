{
 "cells": [
  {
   "cell_type": "markdown",
   "metadata": {},
   "source": [
    "# 날씨와 배추 가격은 어떤 상관관계가 있는 지 예측하는 AI\n",
    "평균기온(ageTemp), 최저기온(minTemp), 최고기온(maxTemp), 강수량(rainFall)이</br>\n",
    "배추 가격(agePrice)에 영향을 미칠 경우 가격을 예측"
   ]
  },
  {
   "cell_type": "code",
   "execution_count": 2,
   "metadata": {},
   "outputs": [],
   "source": [
    "import tensorflow.compat.v1 as tf\n",
    "tf.disable_v2_behavior()\n",
    "import numpy as np\n",
    "import pandas as pd"
   ]
  },
  {
   "cell_type": "code",
   "execution_count": 3,
   "metadata": {},
   "outputs": [
    {
     "name": "stdout",
     "output_type": "stream",
     "text": [
      "       year  avgTemp  minTemp  maxTemp  rainFall  avgPrice\n",
      "0  20100101     -4.9    -11.0      0.9       0.0      2123\n",
      "1  20100102     -3.1     -5.5      5.5       0.8      2123\n",
      "2  20100103     -2.9     -6.9      1.4       0.0      2123\n",
      "3  20100104     -1.8     -5.1      2.2       5.9      2020\n",
      "4  20100105     -5.2     -8.7     -1.8       0.7      2060\n"
     ]
    }
   ],
   "source": [
    "# price_data.csv 파일의 데이터를 pandas를 이용해 읽어온다.\n",
    "price_data = pd.read_csv('price_data.csv')\n",
    "print(price_data.head()) # 데이터 상위 5개만 추출"
   ]
  },
  {
   "cell_type": "code",
   "execution_count": 4,
   "metadata": {},
   "outputs": [
    {
     "name": "stdout",
     "output_type": "stream",
     "text": [
      "[[ 2.0100100e+07 -4.9000001e+00 -1.1000000e+01  8.9999998e-01\n",
      "   0.0000000e+00  2.1230000e+03]\n",
      " [ 2.0100102e+07 -3.0999999e+00 -5.5000000e+00  5.5000000e+00\n",
      "   8.0000001e-01  2.1230000e+03]\n",
      " [ 2.0100104e+07 -2.9000001e+00 -6.9000001e+00  1.4000000e+00\n",
      "   0.0000000e+00  2.1230000e+03]\n",
      " ...\n",
      " [ 2.0171228e+07  2.9000001e+00 -2.0999999e+00  8.0000000e+00\n",
      "   0.0000000e+00  2.9010000e+03]\n",
      " [ 2.0171230e+07  2.9000001e+00 -1.6000000e+00  7.0999999e+00\n",
      "   6.0000002e-01  2.9010000e+03]\n",
      " [ 2.0171232e+07  2.0999999e+00 -2.0000000e+00  5.8000002e+00\n",
      "   4.0000001e-01  2.9010000e+03]]\n",
      "<class 'numpy.ndarray'>\n"
     ]
    }
   ],
   "source": [
    "# 읽어온 데이터를 파이썬에서 처리하기 적합하게 numpy 배열로 캐스팅한다.\n",
    "data = np.array(price_data, dtype=np.float32)\n",
    "print(data)\n",
    "print(type(data))"
   ]
  },
  {
   "cell_type": "code",
   "execution_count": 5,
   "metadata": {},
   "outputs": [
    {
     "name": "stdout",
     "output_type": "stream",
     "text": [
      "[[ -4.9 -11.    0.9   0. ]\n",
      " [ -3.1  -5.5   5.5   0.8]\n",
      " [ -2.9  -6.9   1.4   0. ]\n",
      " ...\n",
      " [  2.9  -2.1   8.    0. ]\n",
      " [  2.9  -1.6   7.1   0.6]\n",
      " [  2.1  -2.    5.8   0.4]]\n"
     ]
    }
   ],
   "source": [
    "# numpy 배열에서 데이터 변화 요인(평균기온, 최저기온, 최대기온, 강수량)으로 사용할 데이터를 뽑아낸다.\n",
    "xData = data[:,1:5]\n",
    "print(xData)"
   ]
  },
  {
   "cell_type": "code",
   "execution_count": 6,
   "metadata": {},
   "outputs": [
    {
     "name": "stdout",
     "output_type": "stream",
     "text": [
      "[[2123.]\n",
      " [2123.]\n",
      " [2123.]\n",
      " ...\n",
      " [2901.]\n",
      " [2901.]\n",
      " [2901.]]\n"
     ]
    }
   ],
   "source": [
    "# numpy 배열에서 결과(평균가격)로 사용할 데이터를 뽑아낸다.\n",
    "yData = data[:,[5]]\n",
    "print(yData)"
   ]
  },
  {
   "cell_type": "code",
   "execution_count": 7,
   "metadata": {},
   "outputs": [],
   "source": [
    "# 뽑아낸 데이터를 tensorflow로 처리하기 위해 placeholder를 만든다.\n",
    "# 변화요인(평균기온, 최저기온, 최대기온, 강수량)\n",
    "X = tf.placeholder(dtype=tf.float32, shape=[None, 4]) \n",
    "# 가격(실제값)\n",
    "Y = tf.placeholder(dtype=tf.float32, shape=[None, 1]) \n",
    "\n",
    "# 다변인 선형 회귀 모델의 기울기와 y절편을 임의의 값으로 초기화 한다.\n",
    "# 4행 1열 난수를 발생시킨다.\n",
    "a = tf.Variable(tf.random_uniform([4,1], dtype=tf.float32))\n",
    "b = tf.Variable(tf.random_uniform([1], dtype=tf.float32))"
   ]
  },
  {
   "cell_type": "code",
   "execution_count": 8,
   "metadata": {},
   "outputs": [],
   "source": [
    "# 행렬의 곱셈 연산을 이용해 다변인 선형 회귀 모델의 가설 식을 세운다.\n",
    "y = tf.matmul(X,a) + b\n",
    "\n",
    "# 오차함수를 만든다.\n",
    "loss = tf.reduce_mean(tf.square(y-Y))\n",
    "\n",
    "\n",
    "# 경사하강법 알고리즘을 사용해서 오차 함수 결과를 최소로 하는 식을 만든다.\n",
    "gradient_descent = tf.train.GradientDescentOptimizer(0.00005).minimize(loss)"
   ]
  },
  {
   "cell_type": "code",
   "execution_count": 10,
   "metadata": {},
   "outputs": [
    {
     "name": "stdout",
     "output_type": "stream",
     "text": [
      "학습 모델 저장 완료\n"
     ]
    }
   ],
   "source": [
    "# 학습을 시킨 후 학습된 모델을 저장한다.\n",
    "with tf.Session() as sess:\n",
    "    sess.run(tf.global_variables_initializer())\n",
    "    for i in range(100001):\n",
    "        loss_, y_, _ = sess.run([loss, y, gradient_descent], feed_dict={X:xData,Y:yData})\n",
    "#         if i % 5000 == 0:\n",
    "#             print('Count : %6d, loss = %12.3f, price = %6.1f' %(i,loss_,y_[0]))\n",
    "            \n",
    "            \n",
    "\n",
    "# 학습이 완료되면 학습된 모델을 디스크에 저장한다.\n",
    "# tf.train.Savor() : 학습된 모델을 디스크로 저장 또는 불러오는 객체를 생성하는 함수\n",
    "\n",
    "\n",
    "    saver = tf.train.Saver()\n",
    "    save_path = saver.save(sess, './saved.ckpt')\n",
    "    print(\"학습 모델 저장 완료\")"
   ]
  }
 ],
 "metadata": {
  "kernelspec": {
   "display_name": "Python 3",
   "language": "python",
   "name": "python3"
  },
  "language_info": {
   "codemirror_mode": {
    "name": "ipython",
    "version": 3
   },
   "file_extension": ".py",
   "mimetype": "text/x-python",
   "name": "python",
   "nbconvert_exporter": "python",
   "pygments_lexer": "ipython3",
   "version": "3.7.4"
  }
 },
 "nbformat": 4,
 "nbformat_minor": 2
}
